{
 "cells": [
  {
   "cell_type": "code",
   "execution_count": 1,
   "id": "1f99e03a",
   "metadata": {},
   "outputs": [
    {
     "name": "stdout",
     "output_type": "stream",
     "text": [
      "Episode 1: total Reward = -181.69, steps = 1201\n",
      "Episode 2: total Reward = -101.75, steps = 103\n",
      "Episode 3: total Reward = -112.05, steps = 65\n"
     ]
    }
   ],
   "source": [
    "import gym\n",
    "\n",
    "env = gym.make(\"BipedalWalker-v3\", render_mode=\"human\")\n",
    "#env.action_space.seed(42)\n",
    "\n",
    "n = 3  # number of episodes\n",
    "\n",
    "for episode in range(1, n + 1):\n",
    "    observation, info = env.reset()\n",
    "    total_reward = 0\n",
    "    steps = 0\n",
    "    done = False\n",
    "\n",
    "    while not done:\n",
    "        action = env.action_space.sample()\n",
    "        observation, reward, terminated, truncated, info = env.step(action)\n",
    "        total_reward += reward\n",
    "        steps += 1\n",
    "        if terminated or truncated:\n",
    "            done = True\n",
    "\n",
    "    print(f\"Episode {episode}: total Reward = {total_reward:.2f}, steps = {steps}\")\n",
    "\n",
    "env.close()\n",
    "\n"
   ]
  },
  {
   "cell_type": "code",
   "execution_count": null,
   "id": "5a08c03f",
   "metadata": {},
   "outputs": [],
   "source": [
    "# This version works perfectly above using render_mode=\"human\"\n",
    "# To generate a GIF and display it inside Jupyter/GitHub, use the following lines:\n",
    "\n",
    "import gym\n",
    "import imageio\n",
    "from IPython.display import Image\n",
    "\n",
    "# Create environment for RGB frame capture\n",
    "env = gym.make(\"BipedalWalker-v3\", render_mode=\"rgb_array\")\n",
    "observation, _ = env.reset()\n",
    "\n",
    "frames = []\n",
    "done = False\n",
    "\n",
    "# Run one episode and collect frames\n",
    "while not done:\n",
    "    action = env.action_space.sample()\n",
    "    observation, reward, terminated, truncated, _ = env.step(action)\n",
    "    frames.append(env.render())  # capture frame for GIF\n",
    "    if terminated or truncated:\n",
    "        done = True\n",
    "\n",
    "env.close()\n",
    "\n",
    "# Save collected frames as a GIF\n",
    "gif_path = \"bipedalwalker_episode.gif\"\n",
    "imageio.mimsave(gif_path, frames, fps=30)\n",
    "\n",
    "# Display the GIF inside Jupyter (GitHub can also preview this inline)\n",
    "Image(filename=gif_path)"
   ]
  }
 ],
 "metadata": {
  "kernelspec": {
   "display_name": "gym",
   "language": "python",
   "name": "python3"
  },
  "language_info": {
   "codemirror_mode": {
    "name": "ipython",
    "version": 3
   },
   "file_extension": ".py",
   "mimetype": "text/x-python",
   "name": "python",
   "nbconvert_exporter": "python",
   "pygments_lexer": "ipython3",
   "version": "3.10.16"
  }
 },
 "nbformat": 4,
 "nbformat_minor": 5
}
